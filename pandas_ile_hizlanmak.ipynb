{
  "nbformat": 4,
  "nbformat_minor": 0,
  "metadata": {
    "colab": {
      "name": "pandas_ile_hizlanmak.ipynb",
      "version": "0.3.2",
      "provenance": [],
      "collapsed_sections": []
    },
    "kernelspec": {
      "name": "python3",
      "display_name": "Python 3"
    },
    "accelerator": "GPU"
  },
  "cells": [
    {
      "cell_type": "markdown",
      "metadata": {
        "id": "EdCebo3Ah1Ss",
        "colab_type": "text"
      },
      "source": [
        "# Pandas'ı Doğru Kullanarak Kodumuzu Hızlandırma\n",
        "### Bu çalışmada Pandas'ı doğru kullanarak kodumuzu nasıl hızlandırabileceğimizi göreceğiz.\n",
        "Bu notebook size Pandas kütüphanesinin nasıl tasarlandığı şekilde kullanılacağını ve matris işlemleri açısından nasıl düşünüleceğini öğretecektir. Bu arada, size Pandas'ın kodunuzdaki for döngülerinden daha hızlı çalışmasını sağlayacak, pratik zaman kazandıran birkaç ipucu ve püf noktası göstereceğim!"
      ]
    },
    {
      "cell_type": "markdown",
      "metadata": {
        "id": "RNXzNnJijInU",
        "colab_type": "text"
      },
      "source": [
        "Bu kod boyunca, klasik Iris Flowers veri setini kullanacağız. Veri setini seaborn ile yükleyerek ve ilk 5 satırı yazdırarak başlayalım."
      ]
    },
    {
      "cell_type": "code",
      "metadata": {
        "id": "2hUGjWVphK6E",
        "colab_type": "code",
        "colab": {
          "base_uri": "https://localhost:8080/",
          "height": 119
        },
        "outputId": "8ea0ca61-4327-47a4-b824-f0e5a667ac3d"
      },
      "source": [
        "import seaborn as sns\n",
        "import pandas as pd\n",
        "\n",
        "data = sns.load_dataset('iris')\n",
        "\n",
        "print(data.head())"
      ],
      "execution_count": 1,
      "outputs": [
        {
          "output_type": "stream",
          "text": [
            "   sepal_length  sepal_width  petal_length  petal_width species\n",
            "0           5.1          3.5           1.4          0.2  setosa\n",
            "1           4.9          3.0           1.4          0.2  setosa\n",
            "2           4.7          3.2           1.3          0.2  setosa\n",
            "3           4.6          3.1           1.5          0.2  setosa\n",
            "4           5.0          3.6           1.4          0.2  setosa\n"
          ],
          "name": "stdout"
        }
      ]
    },
    {
      "cell_type": "markdown",
      "metadata": {
        "id": "MwsuA2ZZji_u",
        "colab_type": "text"
      },
      "source": [
        "Şimdi hızımızı Python for-loop ile ölçmek için bir temel oluşturalım. Veri setimizde gerçekleştirilecek bir hesaplama oluşturacağız, her satırdan geçerek tüm işlemin hızını ölçeceğiz. Bu, yeni optimizasyonlarımızın bize ne kadar yardımcı olduğunu görmek için bize bir temel sağlayacaktır."
      ]
    },
    {
      "cell_type": "code",
      "metadata": {
        "id": "F_m7qCrJhZUf",
        "colab_type": "code",
        "colab": {
          "base_uri": "https://localhost:8080/",
          "height": 34
        },
        "outputId": "4017fa45-5c67-48b0-ce1a-8729cac37450"
      },
      "source": [
        "import seaborn as sns\n",
        "import time\n",
        "\n",
        "data = sns.load_dataset('iris')\n",
        "\n",
        "def compute_class(petal_length):\n",
        "    if petal_length <= 2:\n",
        "        return 1\n",
        "    elif 2 < petal_length < 5:\n",
        "        return 2\n",
        "    else:\n",
        "        return 3\n",
        "\n",
        "start = time.time()\n",
        "\n",
        "class_list = list()\n",
        "for i in range(len(data)):\n",
        "    petal_length = data.iloc[i]['petal_length']\n",
        "    class_num = compute_class(petal_length)\n",
        "    class_list.append(class_num)\n",
        "\n",
        "end = time.time()\n",
        "print(\"For-loop run time = {}\".format(end - start))"
      ],
      "execution_count": 2,
      "outputs": [
        {
          "output_type": "stream",
          "text": [
            "For-loop run time = 0.031827688217163086\n"
          ],
          "name": "stdout"
        }
      ]
    },
    {
      "cell_type": "markdown",
      "metadata": {
        "id": "KWY5WGtfjv49",
        "colab_type": "text"
      },
      "source": [
        "Yukarıdaki kodda, bir If-Else deyimi kullanarak taç uzunluğuna göre çiçeğin sınıfını seçen temel bir fonksiyon yarattık. Dataframe içinde loop yaparak her satırdaki fonksiyonları uygulayan bir for-loop yazdık ve daha sonra loop'un toplam çalışma süresini ölçtük.\n",
        "\n",
        "Colab'da döngü, 5 çalıştırmada ortalama 0.031827 saniye sürdü."
      ]
    },
    {
      "cell_type": "markdown",
      "metadata": {
        "id": "TPMJH4evkKOU",
        "colab_type": "text"
      },
      "source": [
        "# .İterrows () ile döngü\n",
        "Yapabileceğimiz en kolay ancak çok değerli hız Panda'nın yerleşik  .iterrows()işlevini kullanmaktır.\n",
        "\n",
        "For-loop'umuzu önceki bölümde yazdığımızda, range()fonksiyonu kullanıyorduk . Yine de Python'da geniş bir değer aralığında döngü oluştururken, jeneratörler çok daha hızlı olma eğilimindedir. \n",
        "\n",
        "Aşağıda, .iterrows() düzenli bir for döngüsü yerine kullanılacak kodu değiştirdik  . Colab'da, ortalama çalışma süresi 0.018173933029174805 saniye idi - bir 1.75X hızlanma!"
      ]
    },
    {
      "cell_type": "code",
      "metadata": {
        "id": "Y2dU1IEzkuhd",
        "colab_type": "code",
        "colab": {
          "base_uri": "https://localhost:8080/",
          "height": 34
        },
        "outputId": "e94b88e5-87c2-462b-e224-f8753fc8a677"
      },
      "source": [
        "0.031827688217163086/0.018173933029174805"
      ],
      "execution_count": 6,
      "outputs": [
        {
          "output_type": "execute_result",
          "data": {
            "text/plain": [
              "1.751282354021541"
            ]
          },
          "metadata": {
            "tags": []
          },
          "execution_count": 6
        }
      ]
    },
    {
      "cell_type": "code",
      "metadata": {
        "id": "-hR4p8h4hf_g",
        "colab_type": "code",
        "colab": {
          "base_uri": "https://localhost:8080/",
          "height": 34
        },
        "outputId": "568e9a66-d086-4fc4-b5bd-82e651e54c84"
      },
      "source": [
        "import seaborn as sns\n",
        "import time\n",
        "\n",
        "data = sns.load_dataset('iris')\n",
        "\n",
        "def compute_class(petal_length):\n",
        "    if petal_length <= 2:\n",
        "        return 1\n",
        "    elif 2 < petal_length < 5:\n",
        "        return 2\n",
        "    else:\n",
        "        return 3\n",
        "\n",
        "start = time.time()\n",
        "\n",
        "class_list = list()\n",
        "for index, data_row in data.iterrows():\n",
        "    petal_length = data_row['petal_length']\n",
        "    class_num = compute_class(petal_length)\n",
        "    class_list.append(class_num)\n",
        "\n",
        "end = time.time()\n",
        "print(\"Iterrows run time = {}\".format(end - start))"
      ],
      "execution_count": 3,
      "outputs": [
        {
          "output_type": "stream",
          "text": [
            "Iterrows run time = 0.018173933029174805\n"
          ],
          "name": "stdout"
        }
      ]
    },
    {
      "cell_type": "markdown",
      "metadata": {
        "id": "wOItqI3wlgH9",
        "colab_type": "text"
      },
      "source": [
        "# .apply ile for döngüsünden kurtulma"
      ]
    },
    {
      "cell_type": "code",
      "metadata": {
        "id": "LB0PX0HPhmAs",
        "colab_type": "code",
        "colab": {
          "base_uri": "https://localhost:8080/",
          "height": 34
        },
        "outputId": "cac6127d-28e4-4d36-d517-58a3a7e7e73b"
      },
      "source": [
        "import seaborn as sns\n",
        "import time\n",
        "\n",
        "data = sns.load_dataset('iris')\n",
        "\n",
        "def compute_class(petal_length):\n",
        "    if petal_length <= 2:\n",
        "        return 1\n",
        "    elif 2 < petal_length < 5:\n",
        "        return 2\n",
        "    else:\n",
        "        return 3\n",
        "\n",
        "start = time.time()\n",
        "\n",
        "class_list = data.apply(lambda row: compute_class(row['petal_length']), axis=1)\n",
        "\n",
        "end = time.time()\n",
        "print(\".apply() run time = {}\".format(end - start))"
      ],
      "execution_count": 4,
      "outputs": [
        {
          "output_type": "stream",
          "text": [
            ".apply() run time = 0.007298946380615234\n"
          ],
          "name": "stdout"
        }
      ]
    },
    {
      "cell_type": "markdown",
      "metadata": {
        "id": "A8k4dKFol7Ui",
        "colab_type": "text"
      },
      "source": [
        "Süre daha da kısa sürdü: For döngüsüne göre X4,36 hız!!"
      ]
    },
    {
      "cell_type": "code",
      "metadata": {
        "id": "pTNS5CmblsbT",
        "colab_type": "code",
        "colab": {
          "base_uri": "https://localhost:8080/",
          "height": 34
        },
        "outputId": "9e2e65b0-fc53-4cae-d7bf-86693fcbfbd7"
      },
      "source": [
        "0.031827688217163086/0.007298946380615234"
      ],
      "execution_count": 7,
      "outputs": [
        {
          "output_type": "execute_result",
          "data": {
            "text/plain": [
              "4.3605866596981775"
            ]
          },
          "metadata": {
            "tags": []
          },
          "execution_count": 7
        }
      ]
    },
    {
      "cell_type": "markdown",
      "metadata": {
        "id": "EvFS2vyxmwGQ",
        "colab_type": "text"
      },
      "source": [
        "# .cut() metodu ile hızı daha da artırma"
      ]
    },
    {
      "cell_type": "code",
      "metadata": {
        "id": "nsY2PyPzhrW5",
        "colab_type": "code",
        "colab": {
          "base_uri": "https://localhost:8080/",
          "height": 34
        },
        "outputId": "a246e6df-faa0-462e-b52d-224541a3a5d3"
      },
      "source": [
        "import seaborn as sns\n",
        "import time\n",
        "import pandas as pd\n",
        "\n",
        "data = sns.load_dataset('iris')\n",
        "\n",
        "start = time.time()\n",
        "\n",
        "class_list = pd.cut(x=data.petal_length,\n",
        "                   bins=[0, 2, 5, 100],\n",
        "                   include_lowest=True,\n",
        "                   labels=[1, 2, 3]).astype(int)\n",
        "\n",
        "end = time.time()\n",
        "print(\".cut() run time = {}\".format(end - start))"
      ],
      "execution_count": 5,
      "outputs": [
        {
          "output_type": "stream",
          "text": [
            ".cut() run time = 0.0057163238525390625\n"
          ],
          "name": "stdout"
        }
      ]
    },
    {
      "cell_type": "markdown",
      "metadata": {
        "id": "dcNj47pXm5Lt",
        "colab_type": "text"
      },
      "source": [
        "Son yöntemle hızımız 5 kat arttı"
      ]
    },
    {
      "cell_type": "code",
      "metadata": {
        "id": "T5YOgv_chvcM",
        "colab_type": "code",
        "colab": {
          "base_uri": "https://localhost:8080/",
          "height": 34
        },
        "outputId": "8a11305e-db82-4919-dd98-49c9373f6883"
      },
      "source": [
        "0.031827688217163086/0.0057163238525390625"
      ],
      "execution_count": 8,
      "outputs": [
        {
          "output_type": "execute_result",
          "data": {
            "text/plain": [
              "5.567859526192859"
            ]
          },
          "metadata": {
            "tags": []
          },
          "execution_count": 8
        }
      ]
    },
    {
      "cell_type": "markdown",
      "metadata": {
        "id": "1Rv45EuinElx",
        "colab_type": "text"
      },
      "source": [
        "### Faydalı olması dileğiyle"
      ]
    }
  ]
}